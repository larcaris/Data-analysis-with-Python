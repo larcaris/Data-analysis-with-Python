{
 "cells": [
  {
   "cell_type": "markdown",
   "metadata": {},
   "source": [
    "# Title: Análise dados - Minha Casa Minha Vida (Analysis of brazilian dataset \"Minha Casa Minha Vida\")\n",
    "Author : Larissa Belarmino Arçari\n",
    "    \n",
    "Estudo baseado no dataset brasileiro Minha Casa Minha Vida, programa do governo que oferece melhores\n",
    "condições para comprar um apartamento/casa a um financiamento mais baixo.\n",
    "O dataset traz resultado de obras entregues, regiões, etc.\n",
    "O estudo ainda está em desenvolvimento, e foram realizadas extração de dados, limpeza de dados, \n",
    "e diversas análises.O dataset está sendo atualizado e pode passar por alterações a qualquer momento.\n",
    "\n",
    "Study based on brazilian dataset Minha Casa Minha Vida, program of government that offers good conditions to buy a apartment/house with a low cost. The dataset gets results of constructions delivered, regions, etc. The study is development yet, and were performed data extract, data clear, and others analysis. The dataset is being updated and can be changed at any time."
   ]
  },
  {
   "cell_type": "code",
   "execution_count": null,
   "metadata": {
    "collapsed": true
   },
   "outputs": [],
   "source": [
    "%matplotlib inline\n",
    "import pandas as pd\n",
    "import numpy as np\n",
    "import matplotlib.pyplot as plt;plt.rcdefaults()\n",
    "import seaborn as sns"
   ]
  },
  {
   "cell_type": "code",
   "execution_count": null,
   "metadata": {
    "collapsed": false,
    "scrolled": true
   },
   "outputs": [],
   "source": [
    "dataset = pd.read_csv('./MCMV.csv',encoding='ISO-8859-1')"
   ]
  },
  {
   "cell_type": "code",
   "execution_count": null,
   "metadata": {
    "collapsed": false
   },
   "outputs": [],
   "source": [
    "print(dataset.head(1))"
   ]
  },
  {
   "cell_type": "code",
   "execution_count": null,
   "metadata": {
    "collapsed": false,
    "scrolled": true
   },
   "outputs": [],
   "source": [
    "print(dataset.describe())"
   ]
  },
  {
   "cell_type": "code",
   "execution_count": null,
   "metadata": {
    "collapsed": false,
    "scrolled": true
   },
   "outputs": [],
   "source": [
    "#class distribution\n",
    "print(dataset.groupby('Concluidas').size())"
   ]
  },
  {
   "cell_type": "code",
   "execution_count": null,
   "metadata": {
    "collapsed": false,
    "scrolled": true
   },
   "outputs": [],
   "source": [
    "dataset"
   ]
  },
  {
   "cell_type": "code",
   "execution_count": null,
   "metadata": {
    "collapsed": false
   },
   "outputs": [],
   "source": [
    "#Limpeza de dados\n",
    "#agora vamos limpar os dados - limpar a coluna UF_1 que só tinha NaN's\n",
    "dataset = dataset.drop('UF_1', axis=1)"
   ]
  },
  {
   "cell_type": "code",
   "execution_count": null,
   "metadata": {
    "collapsed": false
   },
   "outputs": [],
   "source": [
    "dataset"
   ]
  },
  {
   "cell_type": "code",
   "execution_count": null,
   "metadata": {
    "collapsed": false
   },
   "outputs": [],
   "source": [
    "#agora vamos ver qual o tipo dos dados\n",
    "dataset.dtypes"
   ]
  },
  {
   "cell_type": "code",
   "execution_count": null,
   "metadata": {
    "collapsed": false,
    "scrolled": true
   },
   "outputs": [],
   "source": [
    "dataset.describe()"
   ]
  },
  {
   "cell_type": "code",
   "execution_count": null,
   "metadata": {
    "collapsed": false
   },
   "outputs": [],
   "source": [
    "dataset.head(1)"
   ]
  },
  {
   "cell_type": "code",
   "execution_count": null,
   "metadata": {
    "collapsed": false
   },
   "outputs": [],
   "source": [
    "#saber quais obras entregues por região\n",
    "#criamos um dicionário que mostra as entregues por região (nome e chave)#\n",
    "obras_entregues = {}\n",
    "#nome de cada municipio que aparece no arquivo sem repetir (unique)#\n",
    "regioes_entregues = dataset['Municipio'].unique()\n",
    "\n",
    "regioes_entregues[0:5]"
   ]
  },
  {
   "cell_type": "code",
   "execution_count": null,
   "metadata": {
    "collapsed": false
   },
   "outputs": [],
   "source": [
    "for i in regioes_entregues:\n",
    "    i_nome = dataset[dataset['Municipio'] == i] #valores para cada municipio atual\n",
    "    soma_obras_entregues = i_nome['Entregues'].sum() #soma de todas obras entregues\n",
    "    obras_entregues[i] = soma_obras_entregues #populando o dicionario com o municipio e com a soma das obras entregues da linha anterior\n",
    "    entregues_por_municipio = pd.DataFrame.from_dict(obras_entregues, orient='index') #transformando o dicionario em dataframe\n",
    "    entregues_por_municipio.columns = ['Obras Entregues'] #nomeando a única coluna do dataframe"
   ]
  },
  {
   "cell_type": "code",
   "execution_count": null,
   "metadata": {
    "collapsed": false
   },
   "outputs": [],
   "source": [
    "entregues_por_municipio.head()"
   ]
  },
  {
   "cell_type": "markdown",
   "metadata": {},
   "source": [
    "# Visualização de dados"
   ]
  },
  {
   "cell_type": "code",
   "execution_count": null,
   "metadata": {
    "collapsed": false
   },
   "outputs": [],
   "source": [
    "#plotando os municipios com as obras entregues\n",
    "entregues_por_municipio = entregues_por_municipio.sort_values('Obras Entregues',ascending=False) #ordenando valores do dataframe\n",
    "entregues_por_municipio.head(10).plot(kind='barh', figsize=(10,5), color='green', legend=False, grid=True, alpha=0.7) #plot\n",
    "plt.show()"
   ]
  },
  {
   "cell_type": "code",
   "execution_count": null,
   "metadata": {
    "collapsed": false
   },
   "outputs": [],
   "source": [
    "#são paulo teve o maior número de obras entregues.\n",
    "#vamos ver agora em detalhes o número de cada obra entregue.\n",
    "gastos_detalhe_sp = dataset[dataset['Municipio'] == 'São Paulo'].reset_index() #exibe sem mostrar o index\n",
    "gastos_detalhe_sp.shape[0] #quantas linhas tem o arquivo"
   ]
  },
  {
   "cell_type": "code",
   "execution_count": null,
   "metadata": {
    "collapsed": false
   },
   "outputs": [],
   "source": [
    "#São paulo tem, segundo o registro anterior, 105 obras entregues.\n",
    "#Agora vamos ver quais as obras mais caras.\n",
    "gastos_detalhe_sp"
   ]
  },
  {
   "cell_type": "code",
   "execution_count": null,
   "metadata": {
    "collapsed": false
   },
   "outputs": [],
   "source": [
    "#Ver qual maior número de obras entregues.\n",
    "print(gastos_detalhe_sp.groupby('Entregues').size())"
   ]
  },
  {
   "cell_type": "code",
   "execution_count": null,
   "metadata": {
    "collapsed": false
   },
   "outputs": [],
   "source": [
    "#pegar somente colunas municipio e entregues de sp:\n",
    "gastos_detalhe_sp.iloc[:,[7,13]]"
   ]
  },
  {
   "cell_type": "code",
   "execution_count": null,
   "metadata": {
    "collapsed": false
   },
   "outputs": [],
   "source": [
    "#eliminar linhas com zero\n",
    "#df = df[df.line_race != 0]\n",
    "gastos_detalhe_sp = gastos_detalhe_sp[gastos_detalhe_sp.Entregues != 0]            "
   ]
  },
  {
   "cell_type": "code",
   "execution_count": null,
   "metadata": {
    "collapsed": false
   },
   "outputs": [],
   "source": [
    "gastos_detalhe_sp"
   ]
  },
  {
   "cell_type": "code",
   "execution_count": null,
   "metadata": {
    "collapsed": false
   },
   "outputs": [],
   "source": [
    "#agora vamos pegar o municipio de sp com maior numero de obras entregues\n",
    "gastos_detalhe_sp.groupby(['Municipio'], sort=False)['Entregues'].max()"
   ]
  },
  {
   "cell_type": "code",
   "execution_count": null,
   "metadata": {
    "collapsed": false
   },
   "outputs": [],
   "source": [
    "plt.bar(dataset['Municipio'], dataset['Entregues'], align='center', alpha=0.5)\n",
    "plt.xticks(dataset['Municipio'],dataset)\n",
    "plt.xlabel('Municipio')\n",
    "plt.ylabel('Entregues')\n",
    "plt.title('teste')\n",
    " \n",
    "plt.show()"
   ]
  },
  {
   "cell_type": "code",
   "execution_count": null,
   "metadata": {
    "collapsed": true
   },
   "outputs": [],
   "source": []
  }
 ],
 "metadata": {
  "kernelspec": {
   "display_name": "Python 3",
   "language": "python",
   "name": "python3"
  }
 },
 "nbformat": 4,
 "nbformat_minor": 2
}
